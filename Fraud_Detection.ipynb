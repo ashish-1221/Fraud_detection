{
 "cells": [
  {
   "cell_type": "code",
   "execution_count": 1,
   "id": "4e4018ea-e9b0-4bbb-86e5-371e8f5c3ac5",
   "metadata": {},
   "outputs": [],
   "source": [
    "import numpy as np\n",
    "import pandas as pd\n",
    "import seaborn as sns\n",
    "import matplotlib.pyplot as plt\n",
    "import scipy.stats as st\n",
    "import pylab\n",
    "from sklearn.preprocessing import LabelEncoder\n",
    "from imblearn.over_sampling import SMOTE\n",
    "from sklearn.model_selection import train_test_split\n",
    "from sklearn.linear_model import LogisticRegression\n",
    "from sklearn.model_selection import cross_val_score\n",
    "from sklearn.feature_selection import chi2, SelectKBest\n",
    "from sklearn.metrics import classification_report\n",
    "from sklearn.model_selection import cross_val_score\n",
    "from sklearn.model_selection import GridSearchCV\n",
    "from sklearn.ensemble import RandomForestClassifier\n",
    "\n",
    "import warnings\n",
    "warnings.filterwarnings('ignore')"
   ]
  },
  {
   "cell_type": "code",
   "execution_count": 2,
   "id": "e924fff1-d408-4b02-8a58-aeeb35e290c4",
   "metadata": {},
   "outputs": [],
   "source": [
    "df = pd.read_csv(\"Fraud.csv\")"
   ]
  },
  {
   "cell_type": "code",
   "execution_count": 3,
   "id": "101df6b3-7dd5-4ab5-924a-bca7305cdcfe",
   "metadata": {
    "scrolled": true
   },
   "outputs": [
    {
     "data": {
      "text/plain": "   step      type    amount     nameOrig  oldbalanceOrg  newbalanceOrig  \\\n0     1   PAYMENT   9839.64  C1231006815       170136.0       160296.36   \n1     1   PAYMENT   1864.28  C1666544295        21249.0        19384.72   \n2     1  TRANSFER    181.00  C1305486145          181.0            0.00   \n3     1  CASH_OUT    181.00   C840083671          181.0            0.00   \n4     1   PAYMENT  11668.14  C2048537720        41554.0        29885.86   \n\n      nameDest  oldbalanceDest  newbalanceDest  isFraud  isFlaggedFraud  \n0  M1979787155             0.0             0.0        0               0  \n1  M2044282225             0.0             0.0        0               0  \n2   C553264065             0.0             0.0        1               0  \n3    C38997010         21182.0             0.0        1               0  \n4  M1230701703             0.0             0.0        0               0  ",
      "text/html": "<div>\n<style scoped>\n    .dataframe tbody tr th:only-of-type {\n        vertical-align: middle;\n    }\n\n    .dataframe tbody tr th {\n        vertical-align: top;\n    }\n\n    .dataframe thead th {\n        text-align: right;\n    }\n</style>\n<table border=\"1\" class=\"dataframe\">\n  <thead>\n    <tr style=\"text-align: right;\">\n      <th></th>\n      <th>step</th>\n      <th>type</th>\n      <th>amount</th>\n      <th>nameOrig</th>\n      <th>oldbalanceOrg</th>\n      <th>newbalanceOrig</th>\n      <th>nameDest</th>\n      <th>oldbalanceDest</th>\n      <th>newbalanceDest</th>\n      <th>isFraud</th>\n      <th>isFlaggedFraud</th>\n    </tr>\n  </thead>\n  <tbody>\n    <tr>\n      <th>0</th>\n      <td>1</td>\n      <td>PAYMENT</td>\n      <td>9839.64</td>\n      <td>C1231006815</td>\n      <td>170136.0</td>\n      <td>160296.36</td>\n      <td>M1979787155</td>\n      <td>0.0</td>\n      <td>0.0</td>\n      <td>0</td>\n      <td>0</td>\n    </tr>\n    <tr>\n      <th>1</th>\n      <td>1</td>\n      <td>PAYMENT</td>\n      <td>1864.28</td>\n      <td>C1666544295</td>\n      <td>21249.0</td>\n      <td>19384.72</td>\n      <td>M2044282225</td>\n      <td>0.0</td>\n      <td>0.0</td>\n      <td>0</td>\n      <td>0</td>\n    </tr>\n    <tr>\n      <th>2</th>\n      <td>1</td>\n      <td>TRANSFER</td>\n      <td>181.00</td>\n      <td>C1305486145</td>\n      <td>181.0</td>\n      <td>0.00</td>\n      <td>C553264065</td>\n      <td>0.0</td>\n      <td>0.0</td>\n      <td>1</td>\n      <td>0</td>\n    </tr>\n    <tr>\n      <th>3</th>\n      <td>1</td>\n      <td>CASH_OUT</td>\n      <td>181.00</td>\n      <td>C840083671</td>\n      <td>181.0</td>\n      <td>0.00</td>\n      <td>C38997010</td>\n      <td>21182.0</td>\n      <td>0.0</td>\n      <td>1</td>\n      <td>0</td>\n    </tr>\n    <tr>\n      <th>4</th>\n      <td>1</td>\n      <td>PAYMENT</td>\n      <td>11668.14</td>\n      <td>C2048537720</td>\n      <td>41554.0</td>\n      <td>29885.86</td>\n      <td>M1230701703</td>\n      <td>0.0</td>\n      <td>0.0</td>\n      <td>0</td>\n      <td>0</td>\n    </tr>\n  </tbody>\n</table>\n</div>"
     },
     "execution_count": 3,
     "metadata": {},
     "output_type": "execute_result"
    }
   ],
   "source": [
    "df.head()\n"
   ]
  },
  {
   "cell_type": "code",
   "execution_count": 4,
   "id": "d20d57ac-b5ae-4911-8a29-587c691c7a2c",
   "metadata": {},
   "outputs": [
    {
     "name": "stdout",
     "output_type": "stream",
     "text": [
      "(6362620, 11)\n"
     ]
    }
   ],
   "source": [
    "print(df.shape)"
   ]
  },
  {
   "cell_type": "markdown",
   "id": "cff94b00-cb18-49e9-bf54-e27f5d684c3d",
   "metadata": {},
   "source": [
    "- the total number of rows in the column is 6362620"
   ]
  },
  {
   "cell_type": "code",
   "execution_count": 5,
   "id": "269dc1a3-22aa-46b7-b18b-3cf202ab7605",
   "metadata": {},
   "outputs": [
    {
     "name": "stdout",
     "output_type": "stream",
     "text": [
      "11\n",
      "['step', 'type', 'amount', 'nameOrig', 'oldbalanceOrg', 'newbalanceOrig', 'nameDest', 'oldbalanceDest', 'newbalanceDest', 'isFraud', 'isFlaggedFraud']\n"
     ]
    }
   ],
   "source": [
    "print(len(df.columns))\n",
    "print(list(df.columns))"
   ]
  },
  {
   "cell_type": "markdown",
   "id": "7c1b71e4-32bb-43b1-a02c-b9db44f0d030",
   "metadata": {},
   "source": [
    "- There are a total of 11 columns in the dataset.\n",
    "- With the column 'isFraud' as the target variable\n"
   ]
  },
  {
   "cell_type": "code",
   "execution_count": 6,
   "id": "2adfbe6d-3d4f-4bc2-bfe5-02356bc3ff03",
   "metadata": {},
   "outputs": [
    {
     "name": "stdout",
     "output_type": "stream",
     "text": [
      "<class 'pandas.core.frame.DataFrame'>\n",
      "RangeIndex: 6362620 entries, 0 to 6362619\n",
      "Data columns (total 11 columns):\n",
      " #   Column          Dtype  \n",
      "---  ------          -----  \n",
      " 0   step            int64  \n",
      " 1   type            object \n",
      " 2   amount          float64\n",
      " 3   nameOrig        object \n",
      " 4   oldbalanceOrg   float64\n",
      " 5   newbalanceOrig  float64\n",
      " 6   nameDest        object \n",
      " 7   oldbalanceDest  float64\n",
      " 8   newbalanceDest  float64\n",
      " 9   isFraud         int64  \n",
      " 10  isFlaggedFraud  int64  \n",
      "dtypes: float64(5), int64(3), object(3)\n",
      "memory usage: 534.0+ MB\n"
     ]
    }
   ],
   "source": [
    "df.info()"
   ]
  },
  {
   "cell_type": "markdown",
   "id": "947b5aaa-b065-4504-bfef-751ee368afe8",
   "metadata": {},
   "source": [
    "##  Percentage of missing values "
   ]
  },
  {
   "cell_type": "code",
   "execution_count": 7,
   "id": "a3342634-dcc9-4642-8b35-4b8990ed82fa",
   "metadata": {},
   "outputs": [],
   "source": [
    "# returns the percentage of non missing values in each column\n",
    "df_missing = df.count()/len(df)"
   ]
  },
  {
   "cell_type": "code",
   "execution_count": 8,
   "id": "b444c3bd-b9a8-40e6-bdf7-5da75db2ae37",
   "metadata": {},
   "outputs": [
    {
     "data": {
      "text/plain": "step              0.0\ntype              0.0\namount            0.0\nnameOrig          0.0\noldbalanceOrg     0.0\nnewbalanceOrig    0.0\nnameDest          0.0\noldbalanceDest    0.0\nnewbalanceDest    0.0\nisFraud           0.0\nisFlaggedFraud    0.0\ndtype: float64"
     },
     "execution_count": 8,
     "metadata": {},
     "output_type": "execute_result"
    }
   ],
   "source": [
    "df_missing = (1-df_missing)*100\n",
    "df_missing.sort_values(ascending=False)"
   ]
  },
  {
   "cell_type": "code",
   "execution_count": 9,
   "id": "2ecc0a74-4e32-45f4-b7be-81a867271ea8",
   "metadata": {},
   "outputs": [
    {
     "data": {
      "text/plain": "step              0.0\ntype              0.0\namount            0.0\nnameOrig          0.0\noldbalanceOrg     0.0\nnewbalanceOrig    0.0\nnameDest          0.0\noldbalanceDest    0.0\nnewbalanceDest    0.0\nisFraud           0.0\nisFlaggedFraud    0.0\ndtype: float64"
     },
     "execution_count": 9,
     "metadata": {},
     "output_type": "execute_result"
    }
   ],
   "source": [
    "df_missing_1 = df.isna().mean().round(4)*100\n",
    "df_missing_1"
   ]
  },
  {
   "cell_type": "markdown",
   "id": "7ea7a823-d07f-4dd0-90d6-b2df18bfbe79",
   "metadata": {},
   "source": [
    "- the dataset has no missing values for any column"
   ]
  },
  {
   "cell_type": "markdown",
   "id": "89b80bf2-6ea7-4f11-a656-d0f72243453f",
   "metadata": {},
   "source": [
    "## EDA"
   ]
  },
  {
   "cell_type": "markdown",
   "id": "bc4bdcb3",
   "metadata": {},
   "source": [
    "### Handling Missing values"
   ]
  },
  {
   "cell_type": "markdown",
   "id": "381b964f-ac86-49bf-8bef-93a0a678c750",
   "metadata": {},
   "source": [
    "### 1. 'step' Column"
   ]
  },
  {
   "cell_type": "code",
   "execution_count": 10,
   "id": "5d5dbc64-8307-4687-8ae3-f72384e5fec2",
   "metadata": {},
   "outputs": [
    {
     "data": {
      "text/plain": "19     51352\n18     49579\n187    49083\n235    47491\n307    46968\n       ...  \n432        4\n706        4\n693        4\n112        2\n662        2\nName: step, Length: 743, dtype: int64"
     },
     "execution_count": 10,
     "metadata": {},
     "output_type": "execute_result"
    }
   ],
   "source": [
    "df['step'].value_counts()"
   ]
  },
  {
   "cell_type": "code",
   "execution_count": 11,
   "id": "e557007a-63e9-44c9-89be-34827d89faa6",
   "metadata": {},
   "outputs": [
    {
     "data": {
      "text/plain": "<AxesSubplot:ylabel='Frequency'>"
     },
     "execution_count": 11,
     "metadata": {},
     "output_type": "execute_result"
    },
    {
     "data": {
      "text/plain": "<Figure size 432x288 with 1 Axes>",
      "image/png": "[encoded data removed]"
     },
     "metadata": {},
     "output_type": "display_data"
    }
   ],
   "source": [
    "num_uniq_values = len(df.step.unique())\n",
    "df['step'].plot.hist(bins=num_uniq_values)"
   ]
  },
  {
   "cell_type": "markdown",
   "id": "faf62e13-1976-41fc-b01f-24db220dccfc",
   "metadata": {},
   "source": [
    "- The step column has values ranging from 0-800.\n",
    "- The values like combination of two nornal distribution."
   ]
  },
  {
   "cell_type": "markdown",
   "id": "b0548a69-a178-4b66-b12a-61eb4de49629",
   "metadata": {},
   "source": [
    "### 2. 'type' Column"
   ]
  },
  {
   "cell_type": "code",
   "execution_count": 12,
   "id": "932f74de-9686-420b-b66f-9b2f4a75cba4",
   "metadata": {},
   "outputs": [
    {
     "data": {
      "text/plain": "(array([0, 1, 2, 3, 4]),\n [Text(0, 0, 'PAYMENT'),\n  Text(1, 0, 'TRANSFER'),\n  Text(2, 0, 'CASH_OUT'),\n  Text(3, 0, 'DEBIT'),\n  Text(4, 0, 'CASH_IN')])"
     },
     "execution_count": 12,
     "metadata": {},
     "output_type": "execute_result"
    },
    {
     "data": {
      "text/plain": "<Figure size 432x288 with 1 Axes>",
      "image/png": "[encoded data removed]"
     },
     "metadata": {},
     "output_type": "display_data"
    }
   ],
   "source": [
    "sns.countplot(x=\"type\",data=df)\n",
    "plt.xticks(rotation=90)"
   ]
  },
  {
   "cell_type": "markdown",
   "id": "076831ae-72a4-418d-949f-f1d542c9dc32",
   "metadata": {},
   "source": [
    "- CASH_OUT has the highest number of frequency in the dataset. While DEBIT has the lowest frequency."
   ]
  },
  {
   "cell_type": "markdown",
   "id": "f74db28e-c384-4d6c-89d4-3d533ec5822e",
   "metadata": {},
   "source": [
    "### 3. 'amount' Column"
   ]
  },
  {
   "cell_type": "code",
   "execution_count": 13,
   "id": "2362ea3d-6fd1-4bf2-be15-e0f83636c933",
   "metadata": {},
   "outputs": [
    {
     "data": {
      "text/plain": "10000000.00    3207\n10000.00         88\n5000.00          79\n15000.00         68\n500.00           65\n               ... \n8513.48           1\n189137.90         1\n1615.78           1\n128891.19         1\n12257.89          1\nName: amount, Length: 5316900, dtype: int64"
     },
     "execution_count": 13,
     "metadata": {},
     "output_type": "execute_result"
    }
   ],
   "source": [
    "df.amount.value_counts()"
   ]
  },
  {
   "cell_type": "code",
   "execution_count": 14,
   "id": "b6f9922e-95dc-4bb2-aa30-0e38128ecbf3",
   "metadata": {},
   "outputs": [
    {
     "data": {
      "text/plain": "<AxesSubplot:xlabel='amount'>"
     },
     "execution_count": 14,
     "metadata": {},
     "output_type": "execute_result"
    },
    {
     "data": {
      "text/plain": "<Figure size 432x288 with 1 Axes>",
      "image/png": "[encoded data removed]"
     },
     "metadata": {},
     "output_type": "display_data"
    }
   ],
   "source": [
    "sns.boxplot(x=df['amount'])"
   ]
  },
  {
   "cell_type": "markdown",
   "id": "5ab4be46",
   "metadata": {},
   "source": [
    "- the values range from 0-8*10^7"
   ]
  },
  {
   "cell_type": "markdown",
   "id": "ef69b544-10e5-4604-ba24-ac31513f21cc",
   "metadata": {},
   "source": [
    "### 4. 'oldbalanceOrg' Column"
   ]
  },
  {
   "cell_type": "code",
   "execution_count": 15,
   "id": "a6ffb02b-9992-4fad-ba51-58eb7051cab7",
   "metadata": {},
   "outputs": [
    {
     "data": {
      "text/plain": "0.00         2102449\n184.00           918\n133.00           914\n195.00           912\n164.00           909\n              ...   \n34577.49           1\n184929.21          1\n29320.33           1\n82645.19           1\n641239.85          1\nName: oldbalanceOrg, Length: 1845844, dtype: int64"
     },
     "execution_count": 15,
     "metadata": {},
     "output_type": "execute_result"
    }
   ],
   "source": [
    "df.oldbalanceOrg.value_counts()"
   ]
  },
  {
   "cell_type": "code",
   "execution_count": 16,
   "id": "375bbe77-d5a8-45d6-b07b-ad37303bd06e",
   "metadata": {},
   "outputs": [
    {
     "data": {
      "text/plain": "<AxesSubplot:xlabel='oldbalanceOrg'>"
     },
     "execution_count": 16,
     "metadata": {},
     "output_type": "execute_result"
    },
    {
     "data": {
      "text/plain": "<Figure size 432x288 with 1 Axes>",
      "image/png": "[encoded data removed]"
     },
     "metadata": {},
     "output_type": "display_data"
    }
   ],
   "source": [
    "sns.boxplot(x=df['oldbalanceOrg'])"
   ]
  },
  {
   "cell_type": "markdown",
   "id": "d9d15594-8865-47e6-8071-2636409f428e",
   "metadata": {},
   "source": [
    "### 5. 'newbalanceOrig' Column"
   ]
  },
  {
   "cell_type": "code",
   "execution_count": 17,
   "id": "17461251-c971-4afd-816d-948e4f977083",
   "metadata": {},
   "outputs": [
    {
     "data": {
      "text/plain": "0.00         3609566\n5888.64            4\n15073.44           4\n5122.00            4\n36875.73           4\n              ...   \n51345.64           1\n46527.23           1\n30839.51           1\n25521.75           1\n160296.36          1\nName: newbalanceOrig, Length: 2682586, dtype: int64"
     },
     "execution_count": 17,
     "metadata": {},
     "output_type": "execute_result"
    }
   ],
   "source": [
    "df.newbalanceOrig.value_counts()"
   ]
  },
  {
   "cell_type": "code",
   "execution_count": 18,
   "id": "9c7d1289-4682-4319-b21a-215f6fe3b89c",
   "metadata": {},
   "outputs": [
    {
     "data": {
      "text/plain": "<AxesSubplot:xlabel='newbalanceOrig'>"
     },
     "execution_count": 18,
     "metadata": {},
     "output_type": "execute_result"
    },
    {
     "data": {
      "text/plain": "<Figure size 432x288 with 1 Axes>",
      "image/png": "[encoded data removed]"
     },
     "metadata": {},
     "output_type": "display_data"
    }
   ],
   "source": [
    "sns.boxplot(x=df['newbalanceOrig'])"
   ]
  },
  {
   "cell_type": "markdown",
   "id": "41e6c590",
   "metadata": {},
   "source": [
    "### 6. 'oldbalanceDest' Column"
   ]
  },
  {
   "cell_type": "code",
   "execution_count": 19,
   "id": "933bd9d8",
   "metadata": {},
   "outputs": [
    {
     "data": {
      "text/plain": "0.00           2704388\n10000000.00        615\n20000000.00        219\n30000000.00         86\n40000000.00         31\n                ...   \n967022.27            1\n327279.67            1\n2039554.04           1\n587552.25            1\n6510099.11           1\nName: oldbalanceDest, Length: 3614697, dtype: int64"
     },
     "execution_count": 19,
     "metadata": {},
     "output_type": "execute_result"
    }
   ],
   "source": [
    "df['oldbalanceDest'].value_counts()"
   ]
  },
  {
   "cell_type": "code",
   "execution_count": 20,
   "id": "924dfab0",
   "metadata": {},
   "outputs": [
    {
     "data": {
      "text/plain": "count    6.362620e+06\nmean     1.100702e+06\nstd      3.399180e+06\nmin      0.000000e+00\n25%      0.000000e+00\n50%      1.327057e+05\n75%      9.430367e+05\nmax      3.560159e+08\nName: oldbalanceDest, dtype: float64"
     },
     "execution_count": 20,
     "metadata": {},
     "output_type": "execute_result"
    }
   ],
   "source": [
    "df['oldbalanceDest'].describe()"
   ]
  },
  {
   "cell_type": "code",
   "execution_count": 21,
   "id": "34442127",
   "metadata": {},
   "outputs": [
    {
     "data": {
      "text/plain": "<AxesSubplot:xlabel='oldbalanceDest'>"
     },
     "execution_count": 21,
     "metadata": {},
     "output_type": "execute_result"
    },
    {
     "data": {
      "text/plain": "<Figure size 432x288 with 1 Axes>",
      "image/png": "[encoded data removed]"
     },
     "metadata": {},
     "output_type": "display_data"
    }
   ],
   "source": [
    "sns.boxplot(x=df['oldbalanceDest'])"
   ]
  },
  {
   "cell_type": "markdown",
   "id": "326a59b1",
   "metadata": {},
   "source": [
    "- The number of 0.0 is unusally high for merchants. It would be better to convert it to null so as to have a better model.building\n",
    "- Converting all those values of oldBalanceDest which belong to merchants to null, will not affect the model process."
   ]
  },
  {
   "cell_type": "code",
   "execution_count": 22,
   "id": "eadb7518",
   "metadata": {},
   "outputs": [
    {
     "data": {
      "text/plain": "0.00           2704388\n10000000.00        615\n20000000.00        219\n30000000.00         86\n40000000.00         31\n                ...   \n967022.27            1\n327279.67            1\n2039554.04           1\n587552.25            1\n6510099.11           1\nName: oldbalanceDest, Length: 3614697, dtype: int64"
     },
     "execution_count": 22,
     "metadata": {},
     "output_type": "execute_result"
    }
   ],
   "source": [
    "df[\"oldbalanceDest\"].value_counts()"
   ]
  },
  {
   "cell_type": "code",
   "execution_count": 23,
   "id": "d149a3e0",
   "metadata": {},
   "outputs": [
    {
     "data": {
      "text/plain": "   step      type    amount     nameOrig  oldbalanceOrg  newbalanceOrig  \\\n0     1   PAYMENT   9839.64  C1231006815       170136.0       160296.36   \n1     1   PAYMENT   1864.28  C1666544295        21249.0        19384.72   \n2     1  TRANSFER    181.00  C1305486145          181.0            0.00   \n3     1  CASH_OUT    181.00   C840083671          181.0            0.00   \n4     1   PAYMENT  11668.14  C2048537720        41554.0        29885.86   \n\n      nameDest  oldbalanceDest  newbalanceDest  isFraud  isFlaggedFraud  \n0  M1979787155             0.0             0.0        0               0  \n1  M2044282225             0.0             0.0        0               0  \n2   C553264065             0.0             0.0        1               0  \n3    C38997010         21182.0             0.0        1               0  \n4  M1230701703             0.0             0.0        0               0  ",
      "text/html": "<div>\n<style scoped>\n    .dataframe tbody tr th:only-of-type {\n        vertical-align: middle;\n    }\n\n    .dataframe tbody tr th {\n        vertical-align: top;\n    }\n\n    .dataframe thead th {\n        text-align: right;\n    }\n</style>\n<table border=\"1\" class=\"dataframe\">\n  <thead>\n    <tr style=\"text-align: right;\">\n      <th></th>\n      <th>step</th>\n      <th>type</th>\n      <th>amount</th>\n      <th>nameOrig</th>\n      <th>oldbalanceOrg</th>\n      <th>newbalanceOrig</th>\n      <th>nameDest</th>\n      <th>oldbalanceDest</th>\n      <th>newbalanceDest</th>\n      <th>isFraud</th>\n      <th>isFlaggedFraud</th>\n    </tr>\n  </thead>\n  <tbody>\n    <tr>\n      <th>0</th>\n      <td>1</td>\n      <td>PAYMENT</td>\n      <td>9839.64</td>\n      <td>C1231006815</td>\n      <td>170136.0</td>\n      <td>160296.36</td>\n      <td>M1979787155</td>\n      <td>0.0</td>\n      <td>0.0</td>\n      <td>0</td>\n      <td>0</td>\n    </tr>\n    <tr>\n      <th>1</th>\n      <td>1</td>\n      <td>PAYMENT</td>\n      <td>1864.28</td>\n      <td>C1666544295</td>\n      <td>21249.0</td>\n      <td>19384.72</td>\n      <td>M2044282225</td>\n      <td>0.0</td>\n      <td>0.0</td>\n      <td>0</td>\n      <td>0</td>\n    </tr>\n    <tr>\n      <th>2</th>\n      <td>1</td>\n      <td>TRANSFER</td>\n      <td>181.00</td>\n      <td>C1305486145</td>\n      <td>181.0</td>\n      <td>0.00</td>\n      <td>C553264065</td>\n      <td>0.0</td>\n      <td>0.0</td>\n      <td>1</td>\n      <td>0</td>\n    </tr>\n    <tr>\n      <th>3</th>\n      <td>1</td>\n      <td>CASH_OUT</td>\n      <td>181.00</td>\n      <td>C840083671</td>\n      <td>181.0</td>\n      <td>0.00</td>\n      <td>C38997010</td>\n      <td>21182.0</td>\n      <td>0.0</td>\n      <td>1</td>\n      <td>0</td>\n    </tr>\n    <tr>\n      <th>4</th>\n      <td>1</td>\n      <td>PAYMENT</td>\n      <td>11668.14</td>\n      <td>C2048537720</td>\n      <td>41554.0</td>\n      <td>29885.86</td>\n      <td>M1230701703</td>\n      <td>0.0</td>\n      <td>0.0</td>\n      <td>0</td>\n      <td>0</td>\n    </tr>\n  </tbody>\n</table>\n</div>"
     },
     "execution_count": 23,
     "metadata": {},
     "output_type": "execute_result"
    }
   ],
   "source": [
    "df.head()"
   ]
  },
  {
   "cell_type": "markdown",
   "id": "1543e718",
   "metadata": {},
   "source": [
    "### 6. newbalanceDest"
   ]
  },
  {
   "cell_type": "code",
   "execution_count": 24,
   "id": "8dbff9c9",
   "metadata": {},
   "outputs": [
    {
     "data": {
      "text/plain": "0.00           2439433\n10000000.00         53\n971418.91           32\n19169204.93         29\n1254956.07          25\n                ...   \n188439.36            1\n1347758.15           1\n3878719.83           1\n1605826.83           1\n7360101.63           1\nName: newbalanceDest, Length: 3555499, dtype: int64"
     },
     "execution_count": 24,
     "metadata": {},
     "output_type": "execute_result"
    }
   ],
   "source": [
    "df['newbalanceDest'].value_counts()"
   ]
  },
  {
   "cell_type": "code",
   "execution_count": 25,
   "id": "ae8a6dd2",
   "metadata": {},
   "outputs": [
    {
     "data": {
      "text/plain": "<AxesSubplot:xlabel='newbalanceDest'>"
     },
     "execution_count": 25,
     "metadata": {},
     "output_type": "execute_result"
    },
    {
     "data": {
      "text/plain": "<Figure size 432x288 with 1 Axes>",
      "image/png": "[encoded data removed]"
     },
     "metadata": {},
     "output_type": "display_data"
    }
   ],
   "source": [
    "sns.boxplot(x=df['newbalanceDest'])"
   ]
  },
  {
   "cell_type": "code",
   "execution_count": 26,
   "id": "cdd5f335",
   "metadata": {},
   "outputs": [
    {
     "data": {
      "text/plain": "0.00           2439433\n10000000.00         53\n971418.91           32\n19169204.93         29\n1254956.07          25\n                ...   \n188439.36            1\n1347758.15           1\n3878719.83           1\n1605826.83           1\n7360101.63           1\nName: newbalanceDest, Length: 3555499, dtype: int64"
     },
     "execution_count": 26,
     "metadata": {},
     "output_type": "execute_result"
    }
   ],
   "source": [
    "df['newbalanceDest'].value_counts()"
   ]
  },
  {
   "cell_type": "markdown",
   "id": "3dd906b1",
   "metadata": {},
   "source": [
    "### Outlier Handling"
   ]
  },
  {
   "cell_type": "markdown",
   "id": "d7c55d50",
   "metadata": {},
   "source": [
    "#### Checking the presence of outliers in the numerical columns"
   ]
  },
  {
   "cell_type": "code",
   "execution_count": 27,
   "id": "e8d70f74",
   "metadata": {},
   "outputs": [],
   "source": [
    "numerical_columns = df.select_dtypes(include='number')\n",
    "categorical_columns = df.select_dtypes(include='category')"
   ]
  },
  {
   "cell_type": "code",
   "execution_count": 28,
   "id": "5b760b20",
   "metadata": {},
   "outputs": [
    {
     "data": {
      "text/plain": "         step      amount  oldbalanceOrg  newbalanceOrig  oldbalanceDest  \\\n0           1     9839.64      170136.00       160296.36            0.00   \n1           1     1864.28       21249.00        19384.72            0.00   \n2           1      181.00         181.00            0.00            0.00   \n3           1      181.00         181.00            0.00        21182.00   \n4           1    11668.14       41554.00        29885.86            0.00   \n...       ...         ...            ...             ...             ...   \n6362615   743   339682.13      339682.13            0.00            0.00   \n6362616   743  6311409.28     6311409.28            0.00            0.00   \n6362617   743  6311409.28     6311409.28            0.00        68488.84   \n6362618   743   850002.52      850002.52            0.00            0.00   \n6362619   743   850002.52      850002.52            0.00      6510099.11   \n\n         newbalanceDest  isFraud  isFlaggedFraud  \n0                  0.00        0               0  \n1                  0.00        0               0  \n2                  0.00        1               0  \n3                  0.00        1               0  \n4                  0.00        0               0  \n...                 ...      ...             ...  \n6362615       339682.13        1               0  \n6362616            0.00        1               0  \n6362617      6379898.11        1               0  \n6362618            0.00        1               0  \n6362619      7360101.63        1               0  \n\n[6362620 rows x 8 columns]",
      "text/html": "<div>\n<style scoped>\n    .dataframe tbody tr th:only-of-type {\n        vertical-align: middle;\n    }\n\n    .dataframe tbody tr th {\n        vertical-align: top;\n    }\n\n    .dataframe thead th {\n        text-align: right;\n    }\n</style>\n<table border=\"1\" class=\"dataframe\">\n  <thead>\n    <tr style=\"text-align: right;\">\n      <th></th>\n      <th>step</th>\n      <th>amount</th>\n      <th>oldbalanceOrg</th>\n      <th>newbalanceOrig</th>\n      <th>oldbalanceDest</th>\n      <th>newbalanceDest</th>\n      <th>isFraud</th>\n      <th>isFlaggedFraud</th>\n    </tr>\n  </thead>\n  <tbody>\n    <tr>\n      <th>0</th>\n      <td>1</td>\n      <td>9839.64</td>\n      <td>170136.00</td>\n      <td>160296.36</td>\n      <td>0.00</td>\n      <td>0.00</td>\n      <td>0</td>\n      <td>0</td>\n    </tr>\n    <tr>\n      <th>1</th>\n      <td>1</td>\n      <td>1864.28</td>\n      <td>21249.00</td>\n      <td>19384.72</td>\n      <td>0.00</td>\n      <td>0.00</td>\n      <td>0</td>\n      <td>0</td>\n    </tr>\n    <tr>\n      <th>2</th>\n      <td>1</td>\n      <td>181.00</td>\n      <td>181.00</td>\n      <td>0.00</td>\n      <td>0.00</td>\n      <td>0.00</td>\n      <td>1</td>\n      <td>0</td>\n    </tr>\n    <tr>\n      <th>3</th>\n      <td>1</td>\n      <td>181.00</td>\n      <td>181.00</td>\n      <td>0.00</td>\n      <td>21182.00</td>\n      <td>0.00</td>\n      <td>1</td>\n      <td>0</td>\n    </tr>\n    <tr>\n      <th>4</th>\n      <td>1</td>\n      <td>11668.14</td>\n      <td>41554.00</td>\n      <td>29885.86</td>\n      <td>0.00</td>\n      <td>0.00</td>\n      <td>0</td>\n      <td>0</td>\n    </tr>\n    <tr>\n      <th>...</th>\n      <td>...</td>\n      <td>...</td>\n      <td>...</td>\n      <td>...</td>\n      <td>...</td>\n      <td>...</td>\n      <td>...</td>\n      <td>...</td>\n    </tr>\n    <tr>\n      <th>6362615</th>\n      <td>743</td>\n      <td>339682.13</td>\n      <td>339682.13</td>\n      <td>0.00</td>\n      <td>0.00</td>\n      <td>339682.13</td>\n      <td>1</td>\n      <td>0</td>\n    </tr>\n    <tr>\n      <th>6362616</th>\n      <td>743</td>\n      <td>6311409.28</td>\n      <td>6311409.28</td>\n      <td>0.00</td>\n      <td>0.00</td>\n      <td>0.00</td>\n      <td>1</td>\n      <td>0</td>\n    </tr>\n    <tr>\n      <th>6362617</th>\n      <td>743</td>\n      <td>6311409.28</td>\n      <td>6311409.28</td>\n      <td>0.00</td>\n      <td>68488.84</td>\n      <td>6379898.11</td>\n      <td>1</td>\n      <td>0</td>\n    </tr>\n    <tr>\n      <th>6362618</th>\n      <td>743</td>\n      <td>850002.52</td>\n      <td>850002.52</td>\n      <td>0.00</td>\n      <td>0.00</td>\n      <td>0.00</td>\n      <td>1</td>\n      <td>0</td>\n    </tr>\n    <tr>\n      <th>6362619</th>\n      <td>743</td>\n      <td>850002.52</td>\n      <td>850002.52</td>\n      <td>0.00</td>\n      <td>6510099.11</td>\n      <td>7360101.63</td>\n      <td>1</td>\n      <td>0</td>\n    </tr>\n  </tbody>\n</table>\n<p>6362620 rows × 8 columns</p>\n</div>"
     },
     "execution_count": 28,
     "metadata": {},
     "output_type": "execute_result"
    }
   ],
   "source": [
    "numerical_columns"
   ]
  },
  {
   "cell_type": "markdown",
   "id": "3ca1f2fa",
   "metadata": {},
   "source": [
    "- There are no categorical columns in the dataset"
   ]
  },
  {
   "cell_type": "code",
   "execution_count": 29,
   "id": "1c15bf24",
   "metadata": {},
   "outputs": [],
   "source": [
    "num_cols = list(numerical_columns.columns)"
   ]
  },
  {
   "cell_type": "code",
   "execution_count": 30,
   "id": "b6ce1d05",
   "metadata": {},
   "outputs": [
    {
     "data": {
      "text/plain": "['step',\n 'amount',\n 'oldbalanceOrg',\n 'newbalanceOrig',\n 'oldbalanceDest',\n 'newbalanceDest',\n 'isFraud',\n 'isFlaggedFraud']"
     },
     "execution_count": 30,
     "metadata": {},
     "output_type": "execute_result"
    }
   ],
   "source": [
    "num_cols"
   ]
  },
  {
   "cell_type": "code",
   "execution_count": 31,
   "id": "2a2c19a5",
   "metadata": {},
   "outputs": [
    {
     "data": {
      "text/plain": "<Figure size 432x288 with 1 Axes>",
      "image/png": "[encoded data removed]"
     },
     "metadata": {},
     "output_type": "display_data"
    },
    {
     "data": {
      "text/plain": "<Figure size 432x288 with 1 Axes>",
      "image/png": "[encoded data removed]"
     },
     "metadata": {},
     "output_type": "display_data"
    },
    {
     "data": {
      "text/plain": "<Figure size 432x288 with 1 Axes>",
      "image/png": "[encoded data removed]"
     },
     "metadata": {},
     "output_type": "display_data"
    },
    {
     "data": {
      "text/plain": "<Figure size 432x288 with 1 Axes>",
      "image/png": "[encoded data removed]"
     },
     "metadata": {},
     "output_type": "display_data"
    },
    {
     "data": {
      "text/plain": "<Figure size 432x288 with 1 Axes>",
      "image/png": "[encoded data removed]"
     },
     "metadata": {},
     "output_type": "display_data"
    },
    {
     "data": {
      "text/plain": "<Figure size 432x288 with 1 Axes>",
      "image/png": "[encoded data removed]"
     },
     "metadata": {},
     "output_type": "display_data"
    },
    {
     "data": {
      "text/plain": "<Figure size 432x288 with 1 Axes>",
      "image/png": "[encoded data removed]"
     },
     "metadata": {},
     "output_type": "display_data"
    },
    {
     "data": {
      "text/plain": "<Figure size 432x288 with 1 Axes>",
      "image/png": "[encoded data removed]"
     },
     "metadata": {},
     "output_type": "display_data"
    }
   ],
   "source": [
    "for i,col in enumerate(numerical_columns.columns):\n",
    "    plt.figure(i)\n",
    "    sns.boxplot(x=col,data=df)"
   ]
  },
  {
   "cell_type": "markdown",
   "id": "2327b975",
   "metadata": {},
   "source": [
    "- There are presence of outliers in the following numerical columns\n",
    "    - amount\n",
    "    - oldbalanceOrg\n",
    "    - newbalanceOrig\n",
    "    - oldbalanceDest\n",
    "    - newbalanceDest\n",
    "    "
   ]
  },
  {
   "cell_type": "markdown",
   "id": "e00bdcdb",
   "metadata": {},
   "source": [
    "#### Removing the outliers based from boxplot from the numerical columns"
   ]
  },
  {
   "cell_type": "code",
   "execution_count": 32,
   "id": "4024b680",
   "metadata": {},
   "outputs": [],
   "source": [
    "df = df.loc[~(df[\"amount\"]>80000000)]"
   ]
  },
  {
   "cell_type": "code",
   "execution_count": 33,
   "id": "23f0ef49",
   "metadata": {},
   "outputs": [],
   "source": [
    "df = df.loc[~(df[\"oldbalanceOrg\"]>4.7*10**7)]"
   ]
  },
  {
   "cell_type": "code",
   "execution_count": 34,
   "id": "66d8035a",
   "metadata": {},
   "outputs": [
    {
     "data": {
      "text/plain": "(6362614, 11)"
     },
     "execution_count": 34,
     "metadata": {},
     "output_type": "execute_result"
    }
   ],
   "source": [
    "df.shape"
   ]
  },
  {
   "cell_type": "code",
   "execution_count": 35,
   "id": "fe289d39",
   "metadata": {},
   "outputs": [],
   "source": [
    "df = df.loc[~(df[\"newbalanceOrig\"]>4.3*10**7)]"
   ]
  },
  {
   "cell_type": "code",
   "execution_count": 36,
   "id": "f37b8e0d",
   "metadata": {},
   "outputs": [
    {
     "data": {
      "text/plain": "(6362612, 11)"
     },
     "execution_count": 36,
     "metadata": {},
     "output_type": "execute_result"
    }
   ],
   "source": [
    "df.shape"
   ]
  },
  {
   "cell_type": "code",
   "execution_count": 37,
   "id": "57bc20c5",
   "metadata": {},
   "outputs": [],
   "source": [
    "df = df.loc[~(df[\"oldbalanceDest\"]>3.5*10**8)]"
   ]
  },
  {
   "cell_type": "code",
   "execution_count": 38,
   "id": "49c79495",
   "metadata": {},
   "outputs": [
    {
     "data": {
      "text/plain": "(6362607, 11)"
     },
     "execution_count": 38,
     "metadata": {},
     "output_type": "execute_result"
    }
   ],
   "source": [
    "df.shape\n"
   ]
  },
  {
   "cell_type": "code",
   "execution_count": 39,
   "id": "46b9d42d",
   "metadata": {},
   "outputs": [],
   "source": [
    "df = df.loc[~(df[\"newbalanceDest\"]>3.5*10**8)]"
   ]
  },
  {
   "cell_type": "code",
   "execution_count": 40,
   "id": "702d01bf",
   "metadata": {},
   "outputs": [
    {
     "data": {
      "text/plain": "(6362605, 11)"
     },
     "execution_count": 40,
     "metadata": {},
     "output_type": "execute_result"
    }
   ],
   "source": [
    "df.shape"
   ]
  },
  {
   "cell_type": "code",
   "execution_count": 41,
   "id": "c17a07ac",
   "metadata": {},
   "outputs": [
    {
     "data": {
      "text/plain": "(6362605, 11)"
     },
     "execution_count": 41,
     "metadata": {},
     "output_type": "execute_result"
    }
   ],
   "source": [
    "df.shape"
   ]
  },
  {
   "cell_type": "code",
   "execution_count": 42,
   "id": "3b48d242",
   "metadata": {},
   "outputs": [
    {
     "data": {
      "text/plain": "<Figure size 432x288 with 1 Axes>",
      "image/png": "[encoded data removed]"
     },
     "metadata": {},
     "output_type": "display_data"
    },
    {
     "data": {
      "text/plain": "<Figure size 432x288 with 1 Axes>",
      "image/png": "[encoded data removed]"
     },
     "metadata": {},
     "output_type": "display_data"
    },
    {
     "data": {
      "text/plain": "<Figure size 432x288 with 1 Axes>",
      "image/png": "[encoded data removed]"
     },
     "metadata": {},
     "output_type": "display_data"
    },
    {
     "data": {
      "text/plain": "<Figure size 432x288 with 1 Axes>",
      "image/png": "[encoded data removed]"
     },
     "metadata": {},
     "output_type": "display_data"
    },
    {
     "data": {
      "text/plain": "<Figure size 432x288 with 1 Axes>",
      "image/png": "[encoded data removed]"
     },
     "metadata": {},
     "output_type": "display_data"
    },
    {
     "data": {
      "text/plain": "<Figure size 432x288 with 1 Axes>",
      "image/png": "[encoded data removed]"
     },
     "metadata": {},
     "output_type": "display_data"
    },
    {
     "data": {
      "text/plain": "<Figure size 432x288 with 1 Axes>",
      "image/png": "[encoded data removed]"
     },
     "metadata": {},
     "output_type": "display_data"
    },
    {
     "data": {
      "text/plain": "<Figure size 432x288 with 1 Axes>",
      "image/png": "[encoded data removed]"
     },
     "metadata": {},
     "output_type": "display_data"
    }
   ],
   "source": [
    "for i,col in enumerate(numerical_columns.columns):\n",
    "    plt.figure(i)\n",
    "    sns.boxplot(x=col,data=df)"
   ]
  },
  {
   "cell_type": "code",
   "execution_count": 43,
   "id": "d23138d5",
   "metadata": {},
   "outputs": [
    {
     "data": {
      "text/plain": "                step         amount  oldbalanceOrg  newbalanceOrig  \\\ntype                                                                 \nCASH_IN   244.489971  168920.220537   3.590466e+06    3.759381e+06   \nCASH_OUT  240.900573  176273.981440   4.600428e+04    1.745469e+04   \nDEBIT     248.440481    5483.665314   6.864734e+04    6.516165e+04   \nPAYMENT   244.378151   13057.604773   6.819655e+04    6.181762e+04   \nTRANSFER  246.653558  910330.160859   5.394699e+04    9.886376e+03   \n\n          oldbalanceDest  newbalanceDest   isFraud  isFlaggedFraud  \ntype                                                                \nCASH_IN     1.587413e+06    1.466600e+06  0.000000         0.00000  \nCASH_OUT    1.497440e+06    1.691008e+06  0.001840         0.00000  \nDEBIT       1.493136e+06    1.513003e+06  0.000000         0.00000  \nPAYMENT     0.000000e+00    0.000000e+00  0.000000         0.00000  \nTRANSFER    2.565769e+06    3.552451e+06  0.007679         0.00003  ",
      "text/html": "<div>\n<style scoped>\n    .dataframe tbody tr th:only-of-type {\n        vertical-align: middle;\n    }\n\n    .dataframe tbody tr th {\n        vertical-align: top;\n    }\n\n    .dataframe thead th {\n        text-align: right;\n    }\n</style>\n<table border=\"1\" class=\"dataframe\">\n  <thead>\n    <tr style=\"text-align: right;\">\n      <th></th>\n      <th>step</th>\n      <th>amount</th>\n      <th>oldbalanceOrg</th>\n      <th>newbalanceOrig</th>\n      <th>oldbalanceDest</th>\n      <th>newbalanceDest</th>\n      <th>isFraud</th>\n      <th>isFlaggedFraud</th>\n    </tr>\n    <tr>\n      <th>type</th>\n      <th></th>\n      <th></th>\n      <th></th>\n      <th></th>\n      <th></th>\n      <th></th>\n      <th></th>\n      <th></th>\n    </tr>\n  </thead>\n  <tbody>\n    <tr>\n      <th>CASH_IN</th>\n      <td>244.489971</td>\n      <td>168920.220537</td>\n      <td>3.590466e+06</td>\n      <td>3.759381e+06</td>\n      <td>1.587413e+06</td>\n      <td>1.466600e+06</td>\n      <td>0.000000</td>\n      <td>0.00000</td>\n    </tr>\n    <tr>\n      <th>CASH_OUT</th>\n      <td>240.900573</td>\n      <td>176273.981440</td>\n      <td>4.600428e+04</td>\n      <td>1.745469e+04</td>\n      <td>1.497440e+06</td>\n      <td>1.691008e+06</td>\n      <td>0.001840</td>\n      <td>0.00000</td>\n    </tr>\n    <tr>\n      <th>DEBIT</th>\n      <td>248.440481</td>\n      <td>5483.665314</td>\n      <td>6.864734e+04</td>\n      <td>6.516165e+04</td>\n      <td>1.493136e+06</td>\n      <td>1.513003e+06</td>\n      <td>0.000000</td>\n      <td>0.00000</td>\n    </tr>\n    <tr>\n      <th>PAYMENT</th>\n      <td>244.378151</td>\n      <td>13057.604773</td>\n      <td>6.819655e+04</td>\n      <td>6.181762e+04</td>\n      <td>0.000000e+00</td>\n      <td>0.000000e+00</td>\n      <td>0.000000</td>\n      <td>0.00000</td>\n    </tr>\n    <tr>\n      <th>TRANSFER</th>\n      <td>246.653558</td>\n      <td>910330.160859</td>\n      <td>5.394699e+04</td>\n      <td>9.886376e+03</td>\n      <td>2.565769e+06</td>\n      <td>3.552451e+06</td>\n      <td>0.007679</td>\n      <td>0.00003</td>\n    </tr>\n  </tbody>\n</table>\n</div>"
     },
     "execution_count": 43,
     "metadata": {},
     "output_type": "execute_result"
    }
   ],
   "source": [
    "df.groupby(['type']).mean()"
   ]
  },
  {
   "cell_type": "markdown",
   "id": "69a84a2c",
   "metadata": {},
   "source": [
    "- We see that maximum fraud is in the TRANSFER type category, followed by CASH_OUT type category "
   ]
  },
  {
   "cell_type": "markdown",
   "id": "48037aaf",
   "metadata": {},
   "source": [
    "### Target Variable"
   ]
  },
  {
   "cell_type": "markdown",
   "id": "7af05cc6",
   "metadata": {},
   "source": [
    "#### isFraud is the target variable in the dataset"
   ]
  },
  {
   "cell_type": "code",
   "execution_count": 44,
   "id": "92532f80",
   "metadata": {},
   "outputs": [
    {
     "data": {
      "text/plain": "6354397"
     },
     "execution_count": 44,
     "metadata": {},
     "output_type": "execute_result"
    }
   ],
   "source": [
    "(df['isFraud']==0).sum()"
   ]
  },
  {
   "cell_type": "code",
   "execution_count": 45,
   "id": "06a81995",
   "metadata": {},
   "outputs": [
    {
     "data": {
      "text/plain": "8208"
     },
     "execution_count": 45,
     "metadata": {},
     "output_type": "execute_result"
    }
   ],
   "source": [
    "(df['isFraud']==1).sum()"
   ]
  },
  {
   "cell_type": "code",
   "execution_count": 46,
   "id": "c2c2b138",
   "metadata": {},
   "outputs": [
    {
     "data": {
      "text/plain": "6362605"
     },
     "execution_count": 46,
     "metadata": {},
     "output_type": "execute_result"
    }
   ],
   "source": [
    "df['isFraud'].count()"
   ]
  },
  {
   "cell_type": "code",
   "execution_count": 47,
   "id": "96f5d9fa",
   "metadata": {},
   "outputs": [
    {
     "data": {
      "text/plain": "774.1711744639376"
     },
     "execution_count": 47,
     "metadata": {},
     "output_type": "execute_result"
    }
   ],
   "source": [
    "#ratio of the variables\n",
    "(((df['isFraud']==0).sum())/((df['isFraud']==1).sum())).sum()"
   ]
  },
  {
   "cell_type": "markdown",
   "id": "4a18f83d",
   "metadata": {},
   "source": [
    "- we see that the dataset is too much imbalanbced"
   ]
  },
  {
   "cell_type": "markdown",
   "id": "c0a30795",
   "metadata": {},
   "source": [
    "### Analysing Categorical Data"
   ]
  },
  {
   "cell_type": "markdown",
   "id": "ea52b59f",
   "metadata": {},
   "source": [
    "Since due to data imbalance, we will separate out the df with a isFraud equal to 0 and df with a isFraud equal to 1. And we will analyse them individually and try to find any relationship if it exists."
   ]
  },
  {
   "cell_type": "code",
   "execution_count": 48,
   "id": "82186dc7",
   "metadata": {},
   "outputs": [],
   "source": [
    "df_0=df.loc[df['isFraud']==0]\n",
    "df_1=df.loc[df['isFraud']==1]"
   ]
  },
  {
   "cell_type": "code",
   "execution_count": 49,
   "id": "c3241bd0",
   "metadata": {},
   "outputs": [
    {
     "data": {
      "text/plain": "Text(0.5, 1.0, 'Plotting data for isFraud in terms of percentage')"
     },
     "execution_count": 49,
     "metadata": {},
     "output_type": "execute_result"
    },
    {
     "data": {
      "text/plain": "<Figure size 936x720 with 3 Axes>",
      "image/png": "[encoded data removed]"
     },
     "metadata": {},
     "output_type": "display_data"
    }
   ],
   "source": [
    "fig = plt.figure(figsize=(13,10))\n",
    "\n",
    "ax1 = plt.subplot(221)\n",
    "df['type'].value_counts().plot.pie(autopct = \"%1.0f%%\",ax=ax1)\n",
    "plt.title('Plotting data for the \\'type\\' column')\n",
    "\n",
    "ax2 = plt.subplot(222)\n",
    "sns.countplot(x= 'type', hue = 'isFraud', data = df, ax = ax2)\n",
    "plt.xticks(rotation=90)\n",
    "plt.title('Plotting data for type')\n",
    "\n",
    "\n",
    "ax3 = plt.subplot(223)\n",
    "df_temp = pd.DataFrame()\n",
    "df_temp['0']= ((df_0['type'].value_counts())/len(df_0))\n",
    "df_temp['1']= ((df_1['type'].value_counts())/len(df_1))\n",
    "df_temp.plot.bar(ax=ax3)\n",
    "plt.title('Plotting data for isFraud in terms of percentage')"
   ]
  },
  {
   "cell_type": "code",
   "execution_count": 50,
   "id": "bdfa4b4a",
   "metadata": {},
   "outputs": [],
   "source": [
    "df_fraud = df[df['isFraud']==1]\n",
    "df_not_fraud = df[df['isFraud']==0]"
   ]
  },
  {
   "cell_type": "code",
   "execution_count": 51,
   "id": "a5bf7e6d",
   "metadata": {},
   "outputs": [
    {
     "data": {
      "text/plain": "     step      type   amount     nameOrig  oldbalanceOrg  newbalanceOrig  \\\n2       1  TRANSFER    181.0  C1305486145          181.0             0.0   \n3       1  CASH_OUT    181.0   C840083671          181.0             0.0   \n251     1  TRANSFER   2806.0  C1420196421         2806.0             0.0   \n252     1  CASH_OUT   2806.0  C2101527076         2806.0             0.0   \n680     1  TRANSFER  20128.0   C137533655        20128.0             0.0   \n\n        nameDest  oldbalanceDest  newbalanceDest  isFraud  isFlaggedFraud  \n2     C553264065             0.0             0.0        1               0  \n3      C38997010         21182.0             0.0        1               0  \n251   C972765878             0.0             0.0        1               0  \n252  C1007251739         26202.0             0.0        1               0  \n680  C1848415041             0.0             0.0        1               0  ",
      "text/html": "<div>\n<style scoped>\n    .dataframe tbody tr th:only-of-type {\n        vertical-align: middle;\n    }\n\n    .dataframe tbody tr th {\n        vertical-align: top;\n    }\n\n    .dataframe thead th {\n        text-align: right;\n    }\n</style>\n<table border=\"1\" class=\"dataframe\">\n  <thead>\n    <tr style=\"text-align: right;\">\n      <th></th>\n      <th>step</th>\n      <th>type</th>\n      <th>amount</th>\n      <th>nameOrig</th>\n      <th>oldbalanceOrg</th>\n      <th>newbalanceOrig</th>\n      <th>nameDest</th>\n      <th>oldbalanceDest</th>\n      <th>newbalanceDest</th>\n      <th>isFraud</th>\n      <th>isFlaggedFraud</th>\n    </tr>\n  </thead>\n  <tbody>\n    <tr>\n      <th>2</th>\n      <td>1</td>\n      <td>TRANSFER</td>\n      <td>181.0</td>\n      <td>C1305486145</td>\n      <td>181.0</td>\n      <td>0.0</td>\n      <td>C553264065</td>\n      <td>0.0</td>\n      <td>0.0</td>\n      <td>1</td>\n      <td>0</td>\n    </tr>\n    <tr>\n      <th>3</th>\n      <td>1</td>\n      <td>CASH_OUT</td>\n      <td>181.0</td>\n      <td>C840083671</td>\n      <td>181.0</td>\n      <td>0.0</td>\n      <td>C38997010</td>\n      <td>21182.0</td>\n      <td>0.0</td>\n      <td>1</td>\n      <td>0</td>\n    </tr>\n    <tr>\n      <th>251</th>\n      <td>1</td>\n      <td>TRANSFER</td>\n      <td>2806.0</td>\n      <td>C1420196421</td>\n      <td>2806.0</td>\n      <td>0.0</td>\n      <td>C972765878</td>\n      <td>0.0</td>\n      <td>0.0</td>\n      <td>1</td>\n      <td>0</td>\n    </tr>\n    <tr>\n      <th>252</th>\n      <td>1</td>\n      <td>CASH_OUT</td>\n      <td>2806.0</td>\n      <td>C2101527076</td>\n      <td>2806.0</td>\n      <td>0.0</td>\n      <td>C1007251739</td>\n      <td>26202.0</td>\n      <td>0.0</td>\n      <td>1</td>\n      <td>0</td>\n    </tr>\n    <tr>\n      <th>680</th>\n      <td>1</td>\n      <td>TRANSFER</td>\n      <td>20128.0</td>\n      <td>C137533655</td>\n      <td>20128.0</td>\n      <td>0.0</td>\n      <td>C1848415041</td>\n      <td>0.0</td>\n      <td>0.0</td>\n      <td>1</td>\n      <td>0</td>\n    </tr>\n  </tbody>\n</table>\n</div>"
     },
     "execution_count": 51,
     "metadata": {},
     "output_type": "execute_result"
    }
   ],
   "source": [
    "df_fraud.head()"
   ]
  },
  {
   "cell_type": "code",
   "execution_count": 52,
   "id": "dc3fbc05",
   "metadata": {},
   "outputs": [
    {
     "data": {
      "text/plain": "<Figure size 432x288 with 1 Axes>",
      "image/png": "[encoded data removed]"
     },
     "metadata": {},
     "output_type": "display_data"
    }
   ],
   "source": [
    "plt.hist(df_fraud.amount, alpha=0.5, label='fraud')\n",
    "plt.xlabel('amount')\n",
    "plt.legend()\n",
    "plt.show()"
   ]
  },
  {
   "cell_type": "markdown",
   "id": "928e2ee6",
   "metadata": {},
   "source": [
    "- We see that most fraud transactions occur in the range of having amount (0-0.2)*10**7  "
   ]
  },
  {
   "cell_type": "code",
   "execution_count": 53,
   "id": "b47c8718",
   "metadata": {},
   "outputs": [
    {
     "data": {
      "text/plain": "<Figure size 432x288 with 1 Axes>",
      "image/png": "[encoded data removed]"
     },
     "metadata": {},
     "output_type": "display_data"
    }
   ],
   "source": [
    "plt.hist(df_not_fraud.amount, alpha=0.5, label='non_fraud')\n",
    "plt.xlabel('amount')\n",
    "plt.legend()\n",
    "plt.show()"
   ]
  },
  {
   "cell_type": "markdown",
   "id": "3ed2b2c3",
   "metadata": {},
   "source": [
    "- most non fraud transactions arer in the range having amount 0 to 10000000"
   ]
  },
  {
   "cell_type": "code",
   "execution_count": 54,
   "id": "5ece1ab0",
   "metadata": {},
   "outputs": [
    {
     "data": {
      "text/plain": "   step      type    amount     nameOrig  oldbalanceOrg  newbalanceOrig  \\\n0     1   PAYMENT   9839.64  C1231006815       170136.0       160296.36   \n1     1   PAYMENT   1864.28  C1666544295        21249.0        19384.72   \n2     1  TRANSFER    181.00  C1305486145          181.0            0.00   \n3     1  CASH_OUT    181.00   C840083671          181.0            0.00   \n4     1   PAYMENT  11668.14  C2048537720        41554.0        29885.86   \n\n      nameDest  oldbalanceDest  newbalanceDest  isFraud  isFlaggedFraud  \n0  M1979787155             0.0             0.0        0               0  \n1  M2044282225             0.0             0.0        0               0  \n2   C553264065             0.0             0.0        1               0  \n3    C38997010         21182.0             0.0        1               0  \n4  M1230701703             0.0             0.0        0               0  ",
      "text/html": "<div>\n<style scoped>\n    .dataframe tbody tr th:only-of-type {\n        vertical-align: middle;\n    }\n\n    .dataframe tbody tr th {\n        vertical-align: top;\n    }\n\n    .dataframe thead th {\n        text-align: right;\n    }\n</style>\n<table border=\"1\" class=\"dataframe\">\n  <thead>\n    <tr style=\"text-align: right;\">\n      <th></th>\n      <th>step</th>\n      <th>type</th>\n      <th>amount</th>\n      <th>nameOrig</th>\n      <th>oldbalanceOrg</th>\n      <th>newbalanceOrig</th>\n      <th>nameDest</th>\n      <th>oldbalanceDest</th>\n      <th>newbalanceDest</th>\n      <th>isFraud</th>\n      <th>isFlaggedFraud</th>\n    </tr>\n  </thead>\n  <tbody>\n    <tr>\n      <th>0</th>\n      <td>1</td>\n      <td>PAYMENT</td>\n      <td>9839.64</td>\n      <td>C1231006815</td>\n      <td>170136.0</td>\n      <td>160296.36</td>\n      <td>M1979787155</td>\n      <td>0.0</td>\n      <td>0.0</td>\n      <td>0</td>\n      <td>0</td>\n    </tr>\n    <tr>\n      <th>1</th>\n      <td>1</td>\n      <td>PAYMENT</td>\n      <td>1864.28</td>\n      <td>C1666544295</td>\n      <td>21249.0</td>\n      <td>19384.72</td>\n      <td>M2044282225</td>\n      <td>0.0</td>\n      <td>0.0</td>\n      <td>0</td>\n      <td>0</td>\n    </tr>\n    <tr>\n      <th>2</th>\n      <td>1</td>\n      <td>TRANSFER</td>\n      <td>181.00</td>\n      <td>C1305486145</td>\n      <td>181.0</td>\n      <td>0.00</td>\n      <td>C553264065</td>\n      <td>0.0</td>\n      <td>0.0</td>\n      <td>1</td>\n      <td>0</td>\n    </tr>\n    <tr>\n      <th>3</th>\n      <td>1</td>\n      <td>CASH_OUT</td>\n      <td>181.00</td>\n      <td>C840083671</td>\n      <td>181.0</td>\n      <td>0.00</td>\n      <td>C38997010</td>\n      <td>21182.0</td>\n      <td>0.0</td>\n      <td>1</td>\n      <td>0</td>\n    </tr>\n    <tr>\n      <th>4</th>\n      <td>1</td>\n      <td>PAYMENT</td>\n      <td>11668.14</td>\n      <td>C2048537720</td>\n      <td>41554.0</td>\n      <td>29885.86</td>\n      <td>M1230701703</td>\n      <td>0.0</td>\n      <td>0.0</td>\n      <td>0</td>\n      <td>0</td>\n    </tr>\n  </tbody>\n</table>\n</div>"
     },
     "execution_count": 54,
     "metadata": {},
     "output_type": "execute_result"
    }
   ],
   "source": [
    "df.head()"
   ]
  },
  {
   "cell_type": "markdown",
   "id": "377e9eac",
   "metadata": {},
   "source": [
    "### Handling Multicollinearity issues between Variables"
   ]
  },
  {
   "cell_type": "code",
   "execution_count": 55,
   "id": "99792660",
   "metadata": {},
   "outputs": [
    {
     "data": {
      "text/plain": "<Figure size 1296x360 with 2 Axes>",
      "image/png": "[encoded data removed]"
     },
     "metadata": {},
     "output_type": "display_data"
    }
   ],
   "source": [
    "corr = df.corr()\n",
    "mask = np.zeros_like(corr)\n",
    "mask[np.triu_indices_from(mask)] = True\n",
    "plt.figure(figsize=(18,5))\n",
    "sns.heatmap(df.corr(),mask=mask , annot=True,cmap='YlGnBu')\n",
    "plt.show()"
   ]
  },
  {
   "cell_type": "markdown",
   "id": "b6c11372",
   "metadata": {},
   "source": [
    "- we see that oldbalanceOrg and newBalanceOrig are highly correlated. Similarly, oldBalanceDest and newbalanceDest is highly correlated. Dropping one from each two will handle multicollinearity issue.\n"
   ]
  },
  {
   "cell_type": "code",
   "execution_count": 56,
   "id": "1470d797",
   "metadata": {},
   "outputs": [],
   "source": [
    "df = df.drop(['oldbalanceDest','oldbalanceOrg'],axis=1)"
   ]
  },
  {
   "cell_type": "markdown",
   "id": "6d3c9072",
   "metadata": {},
   "source": [
    "- now we see that newbalancedest and amount are correlated. As amount has better business use. Dropping the newbalance column"
   ]
  },
  {
   "cell_type": "code",
   "execution_count": 57,
   "id": "1cd3cd97",
   "metadata": {},
   "outputs": [
    {
     "data": {
      "text/plain": "<Figure size 1296x360 with 2 Axes>",
      "image/png": "[encoded data removed]"
     },
     "metadata": {},
     "output_type": "display_data"
    }
   ],
   "source": [
    "corr = df.corr()\n",
    "mask = np.zeros_like(corr)\n",
    "mask[np.triu_indices_from(mask)] = True\n",
    "plt.figure(figsize=(18,5))\n",
    "sns.heatmap(df.corr(),mask=mask , annot=True,cmap='YlGnBu')\n",
    "plt.show()"
   ]
  },
  {
   "cell_type": "markdown",
   "id": "d009a8e0",
   "metadata": {},
   "source": [
    "- So we are left with variables which have very less degree of correlation between eachother."
   ]
  },
  {
   "cell_type": "code",
   "execution_count": 58,
   "id": "857e84fa",
   "metadata": {},
   "outputs": [
    {
     "data": {
      "text/plain": "   step      type    amount     nameOrig  newbalanceOrig     nameDest  \\\n0     1   PAYMENT   9839.64  C1231006815       160296.36  M1979787155   \n1     1   PAYMENT   1864.28  C1666544295        19384.72  M2044282225   \n2     1  TRANSFER    181.00  C1305486145            0.00   C553264065   \n3     1  CASH_OUT    181.00   C840083671            0.00    C38997010   \n4     1   PAYMENT  11668.14  C2048537720        29885.86  M1230701703   \n\n   newbalanceDest  isFraud  isFlaggedFraud  \n0             0.0        0               0  \n1             0.0        0               0  \n2             0.0        1               0  \n3             0.0        1               0  \n4             0.0        0               0  ",
      "text/html": "<div>\n<style scoped>\n    .dataframe tbody tr th:only-of-type {\n        vertical-align: middle;\n    }\n\n    .dataframe tbody tr th {\n        vertical-align: top;\n    }\n\n    .dataframe thead th {\n        text-align: right;\n    }\n</style>\n<table border=\"1\" class=\"dataframe\">\n  <thead>\n    <tr style=\"text-align: right;\">\n      <th></th>\n      <th>step</th>\n      <th>type</th>\n      <th>amount</th>\n      <th>nameOrig</th>\n      <th>newbalanceOrig</th>\n      <th>nameDest</th>\n      <th>newbalanceDest</th>\n      <th>isFraud</th>\n      <th>isFlaggedFraud</th>\n    </tr>\n  </thead>\n  <tbody>\n    <tr>\n      <th>0</th>\n      <td>1</td>\n      <td>PAYMENT</td>\n      <td>9839.64</td>\n      <td>C1231006815</td>\n      <td>160296.36</td>\n      <td>M1979787155</td>\n      <td>0.0</td>\n      <td>0</td>\n      <td>0</td>\n    </tr>\n    <tr>\n      <th>1</th>\n      <td>1</td>\n      <td>PAYMENT</td>\n      <td>1864.28</td>\n      <td>C1666544295</td>\n      <td>19384.72</td>\n      <td>M2044282225</td>\n      <td>0.0</td>\n      <td>0</td>\n      <td>0</td>\n    </tr>\n    <tr>\n      <th>2</th>\n      <td>1</td>\n      <td>TRANSFER</td>\n      <td>181.00</td>\n      <td>C1305486145</td>\n      <td>0.00</td>\n      <td>C553264065</td>\n      <td>0.0</td>\n      <td>1</td>\n      <td>0</td>\n    </tr>\n    <tr>\n      <th>3</th>\n      <td>1</td>\n      <td>CASH_OUT</td>\n      <td>181.00</td>\n      <td>C840083671</td>\n      <td>0.00</td>\n      <td>C38997010</td>\n      <td>0.0</td>\n      <td>1</td>\n      <td>0</td>\n    </tr>\n    <tr>\n      <th>4</th>\n      <td>1</td>\n      <td>PAYMENT</td>\n      <td>11668.14</td>\n      <td>C2048537720</td>\n      <td>29885.86</td>\n      <td>M1230701703</td>\n      <td>0.0</td>\n      <td>0</td>\n      <td>0</td>\n    </tr>\n  </tbody>\n</table>\n</div>"
     },
     "execution_count": 58,
     "metadata": {},
     "output_type": "execute_result"
    }
   ],
   "source": [
    "df.head()"
   ]
  },
  {
   "cell_type": "markdown",
   "id": "a263d0b4",
   "metadata": {},
   "source": [
    "### Feature Engineering"
   ]
  },
  {
   "cell_type": "code",
   "execution_count": 59,
   "id": "75036f84",
   "metadata": {},
   "outputs": [],
   "source": [
    "from sklearn.preprocessing import LabelEncoder\n",
    "encoder = {}\n",
    "for i in df.select_dtypes('object').columns:\n",
    "    encoder[i] = LabelEncoder()\n",
    "    df[i] = encoder[i].fit_transform(df[i])"
   ]
  },
  {
   "cell_type": "code",
   "execution_count": 60,
   "id": "7c85fade",
   "metadata": {},
   "outputs": [
    {
     "data": {
      "text/plain": "   step  type    amount  nameOrig  newbalanceOrig  nameDest  newbalanceDest  \\\n0     1     3   9839.64    757869       160296.36   1662090             0.0   \n1     1     3   1864.28   2188995        19384.72   1733920             0.0   \n2     1     4    181.00   1002156            0.00    439681             0.0   \n3     1     1    181.00   5828247            0.00    391692             0.0   \n4     1     3  11668.14   3445975        29885.86    828915             0.0   \n\n   isFraud  isFlaggedFraud  \n0        0               0  \n1        0               0  \n2        1               0  \n3        1               0  \n4        0               0  ",
      "text/html": "<div>\n<style scoped>\n    .dataframe tbody tr th:only-of-type {\n        vertical-align: middle;\n    }\n\n    .dataframe tbody tr th {\n        vertical-align: top;\n    }\n\n    .dataframe thead th {\n        text-align: right;\n    }\n</style>\n<table border=\"1\" class=\"dataframe\">\n  <thead>\n    <tr style=\"text-align: right;\">\n      <th></th>\n      <th>step</th>\n      <th>type</th>\n      <th>amount</th>\n      <th>nameOrig</th>\n      <th>newbalanceOrig</th>\n      <th>nameDest</th>\n      <th>newbalanceDest</th>\n      <th>isFraud</th>\n      <th>isFlaggedFraud</th>\n    </tr>\n  </thead>\n  <tbody>\n    <tr>\n      <th>0</th>\n      <td>1</td>\n      <td>3</td>\n      <td>9839.64</td>\n      <td>757869</td>\n      <td>160296.36</td>\n      <td>1662090</td>\n      <td>0.0</td>\n      <td>0</td>\n      <td>0</td>\n    </tr>\n    <tr>\n      <th>1</th>\n      <td>1</td>\n      <td>3</td>\n      <td>1864.28</td>\n      <td>2188995</td>\n      <td>19384.72</td>\n      <td>1733920</td>\n      <td>0.0</td>\n      <td>0</td>\n      <td>0</td>\n    </tr>\n    <tr>\n      <th>2</th>\n      <td>1</td>\n      <td>4</td>\n      <td>181.00</td>\n      <td>1002156</td>\n      <td>0.00</td>\n      <td>439681</td>\n      <td>0.0</td>\n      <td>1</td>\n      <td>0</td>\n    </tr>\n    <tr>\n      <th>3</th>\n      <td>1</td>\n      <td>1</td>\n      <td>181.00</td>\n      <td>5828247</td>\n      <td>0.00</td>\n      <td>391692</td>\n      <td>0.0</td>\n      <td>1</td>\n      <td>0</td>\n    </tr>\n    <tr>\n      <th>4</th>\n      <td>1</td>\n      <td>3</td>\n      <td>11668.14</td>\n      <td>3445975</td>\n      <td>29885.86</td>\n      <td>828915</td>\n      <td>0.0</td>\n      <td>0</td>\n      <td>0</td>\n    </tr>\n  </tbody>\n</table>\n</div>"
     },
     "execution_count": 60,
     "metadata": {},
     "output_type": "execute_result"
    }
   ],
   "source": [
    "df.head()"
   ]
  },
  {
   "cell_type": "markdown",
   "id": "8897e321",
   "metadata": {},
   "source": [
    "### Splitting the Dataset into X and y"
   ]
  },
  {
   "cell_type": "code",
   "execution_count": 61,
   "id": "6017ebfd",
   "metadata": {},
   "outputs": [],
   "source": [
    "X = df.drop(columns=['isFraud'])\n",
    "y = df['isFraud']"
   ]
  },
  {
   "cell_type": "code",
   "execution_count": 62,
   "id": "1b01d12c",
   "metadata": {},
   "outputs": [
    {
     "data": {
      "text/plain": "0    6354397\n1       8208\nName: isFraud, dtype: int64"
     },
     "execution_count": 62,
     "metadata": {},
     "output_type": "execute_result"
    }
   ],
   "source": [
    "y.value_counts()"
   ]
  },
  {
   "cell_type": "markdown",
   "id": "56f50e88",
   "metadata": {},
   "source": [
    "**As the dataset is heavily imbalanced we use SMOTE**"
   ]
  },
  {
   "cell_type": "code",
   "execution_count": 63,
   "id": "c2f58c06",
   "metadata": {},
   "outputs": [
    {
     "name": "stdout",
     "output_type": "stream",
     "text": [
      "Requirement already satisfied: imbalanced-learn in c:\\users\\asus\\anaconda3\\lib\\site-packages (0.9.1)\n",
      "Requirement already satisfied: threadpoolctl>=2.0.0 in c:\\users\\asus\\anaconda3\\lib\\site-packages (from imbalanced-learn) (2.2.0)\n",
      "Requirement already satisfied: scikit-learn>=1.1.0 in c:\\users\\asus\\anaconda3\\lib\\site-packages (from imbalanced-learn) (1.1.2)\n",
      "Requirement already satisfied: numpy>=1.17.3 in c:\\users\\asus\\anaconda3\\lib\\site-packages (from imbalanced-learn) (1.21.5)\n",
      "Requirement already satisfied: joblib>=1.0.0 in c:\\users\\asus\\anaconda3\\lib\\site-packages (from imbalanced-learn) (1.1.0)\n",
      "Requirement already satisfied: scipy>=1.3.2 in c:\\users\\asus\\anaconda3\\lib\\site-packages (from imbalanced-learn) (1.7.3)\n"
     ]
    }
   ],
   "source": [
    "!pip install -U imbalanced-learn"
   ]
  },
  {
   "cell_type": "code",
   "execution_count": 64,
   "id": "22771373",
   "metadata": {},
   "outputs": [],
   "source": [
    "from imblearn.over_sampling import SMOTE\n",
    "over_sample = SMOTE(random_state = 0)\n",
    "X,y = over_sample.fit_resample(X,y)\n"
   ]
  },
  {
   "cell_type": "code",
   "execution_count": 65,
   "id": "66a4f02e",
   "metadata": {},
   "outputs": [
    {
     "data": {
      "text/plain": "0    6354397\n1    6354397\nName: isFraud, dtype: int64"
     },
     "execution_count": 65,
     "metadata": {},
     "output_type": "execute_result"
    }
   ],
   "source": [
    "y.value_counts()"
   ]
  },
  {
   "cell_type": "markdown",
   "source": [
    "- the data is balanced right now.\n",
    "- the number of 0 and 1 is same."
   ],
   "metadata": {
    "collapsed": false
   }
  },
  {
   "cell_type": "code",
   "execution_count": 65,
   "outputs": [],
   "source": [],
   "metadata": {
    "collapsed": false
   }
  },
  {
   "cell_type": "markdown",
   "id": "d7011d78",
   "metadata": {},
   "source": [
    "### Feature Scaling"
   ]
  },
  {
   "cell_type": "code",
   "execution_count": 66,
   "id": "9bffa13f",
   "metadata": {},
   "outputs": [],
   "source": [
    "from sklearn.preprocessing import MinMaxScaler\n",
    "scaler = MinMaxScaler()\n",
    "X = scaler.fit_transform(X)"
   ]
  },
  {
   "cell_type": "markdown",
   "id": "3a10a7f2",
   "metadata": {},
   "source": [
    "## 3. Model building"
   ]
  },
  {
   "cell_type": "markdown",
   "source": [
    "### Test-Train Split"
   ],
   "metadata": {
    "collapsed": false
   }
  },
  {
   "cell_type": "code",
   "execution_count": 78,
   "outputs": [],
   "source": [
    "from sklearn.model_selection import train_test_split\n"
   ],
   "metadata": {
    "collapsed": false
   }
  },
  {
   "cell_type": "code",
   "execution_count": 79,
   "outputs": [],
   "source": [
    "X_train , X_test , y_train ,y_test = train_test_split(X,y,test_size=0.30,random_state=0)"
   ],
   "metadata": {
    "collapsed": false
   }
  },
  {
   "cell_type": "markdown",
   "source": [
    "### Applying Logistic Regression"
   ],
   "metadata": {
    "collapsed": false
   }
  },
  {
   "cell_type": "code",
   "execution_count": 80,
   "outputs": [],
   "source": [
    "from sklearn.linear_model import LogisticRegression"
   ],
   "metadata": {
    "collapsed": false
   }
  },
  {
   "cell_type": "code",
   "execution_count": 81,
   "outputs": [],
   "source": [
    "logreg = LogisticRegression()"
   ],
   "metadata": {
    "collapsed": false
   }
  },
  {
   "cell_type": "code",
   "execution_count": 82,
   "outputs": [
    {
     "data": {
      "text/plain": "LogisticRegression()",
      "text/html": "<style>#sk-container-id-1 {color: black;background-color: white;}#sk-container-id-1 pre{padding: 0;}#sk-container-id-1 div.sk-toggleable {background-color: white;}#sk-container-id-1 label.sk-toggleable__label {cursor: pointer;display: block;width: 100%;margin-bottom: 0;padding: 0.3em;box-sizing: border-box;text-align: center;}#sk-container-id-1 label.sk-toggleable__label-arrow:before {content: \"▸\";float: left;margin-right: 0.25em;color: #696969;}#sk-container-id-1 label.sk-toggleable__label-arrow:hover:before {color: black;}#sk-container-id-1 div.sk-estimator:hover label.sk-toggleable__label-arrow:before {color: black;}#sk-container-id-1 div.sk-toggleable__content {max-height: 0;max-width: 0;overflow: hidden;text-align: left;background-color: #f0f8ff;}#sk-container-id-1 div.sk-toggleable__content pre {margin: 0.2em;color: black;border-radius: 0.25em;background-color: #f0f8ff;}#sk-container-id-1 input.sk-toggleable__control:checked~div.sk-toggleable__content {max-height: 200px;max-width: 100%;overflow: auto;}#sk-container-id-1 input.sk-toggleable__control:checked~label.sk-toggleable__label-arrow:before {content: \"▾\";}#sk-container-id-1 div.sk-estimator input.sk-toggleable__control:checked~label.sk-toggleable__label {background-color: #d4ebff;}#sk-container-id-1 div.sk-label input.sk-toggleable__control:checked~label.sk-toggleable__label {background-color: #d4ebff;}#sk-container-id-1 input.sk-hidden--visually {border: 0;clip: rect(1px 1px 1px 1px);clip: rect(1px, 1px, 1px, 1px);height: 1px;margin: -1px;overflow: hidden;padding: 0;position: absolute;width: 1px;}#sk-container-id-1 div.sk-estimator {font-family: monospace;background-color: #f0f8ff;border: 1px dotted black;border-radius: 0.25em;box-sizing: border-box;margin-bottom: 0.5em;}#sk-container-id-1 div.sk-estimator:hover {background-color: #d4ebff;}#sk-container-id-1 div.sk-parallel-item::after {content: \"\";width: 100%;border-bottom: 1px solid gray;flex-grow: 1;}#sk-container-id-1 div.sk-label:hover label.sk-toggleable__label {background-color: #d4ebff;}#sk-container-id-1 div.sk-serial::before {content: \"\";position: absolute;border-left: 1px solid gray;box-sizing: border-box;top: 0;bottom: 0;left: 50%;z-index: 0;}#sk-container-id-1 div.sk-serial {display: flex;flex-direction: column;align-items: center;background-color: white;padding-right: 0.2em;padding-left: 0.2em;position: relative;}#sk-container-id-1 div.sk-item {position: relative;z-index: 1;}#sk-container-id-1 div.sk-parallel {display: flex;align-items: stretch;justify-content: center;background-color: white;position: relative;}#sk-container-id-1 div.sk-item::before, #sk-container-id-1 div.sk-parallel-item::before {content: \"\";position: absolute;border-left: 1px solid gray;box-sizing: border-box;top: 0;bottom: 0;left: 50%;z-index: -1;}#sk-container-id-1 div.sk-parallel-item {display: flex;flex-direction: column;z-index: 1;position: relative;background-color: white;}#sk-container-id-1 div.sk-parallel-item:first-child::after {align-self: flex-end;width: 50%;}#sk-container-id-1 div.sk-parallel-item:last-child::after {align-self: flex-start;width: 50%;}#sk-container-id-1 div.sk-parallel-item:only-child::after {width: 0;}#sk-container-id-1 div.sk-dashed-wrapped {border: 1px dashed gray;margin: 0 0.4em 0.5em 0.4em;box-sizing: border-box;padding-bottom: 0.4em;background-color: white;}#sk-container-id-1 div.sk-label label {font-family: monospace;font-weight: bold;display: inline-block;line-height: 1.2em;}#sk-container-id-1 div.sk-label-container {text-align: center;}#sk-container-id-1 div.sk-container {/* jupyter's `normalize.less` sets `[hidden] { display: none; }` but bootstrap.min.css set `[hidden] { display: none !important; }` so we also need the `!important` here to be able to override the default hidden behavior on the sphinx rendered scikit-learn.org. See: https://github.com/scikit-learn/scikit-learn/issues/21755 */display: inline-block !important;position: relative;}#sk-container-id-1 div.sk-text-repr-fallback {display: none;}</style><div id=\"sk-container-id-1\" class=\"sk-top-container\"><div class=\"sk-text-repr-fallback\"><pre>LogisticRegression()</pre><b>In a Jupyter environment, please rerun this cell to show the HTML representation or trust the notebook. <br />On GitHub, the HTML representation is unable to render, please try loading this page with nbviewer.org.</b></div><div class=\"sk-container\" hidden><div class=\"sk-item\"><div class=\"sk-estimator sk-toggleable\"><input class=\"sk-toggleable__control sk-hidden--visually\" id=\"sk-estimator-id-1\" type=\"checkbox\" checked><label for=\"sk-estimator-id-1\" class=\"sk-toggleable__label sk-toggleable__label-arrow\">LogisticRegression</label><div class=\"sk-toggleable__content\"><pre>LogisticRegression()</pre></div></div></div></div></div>"
     },
     "execution_count": 82,
     "metadata": {},
     "output_type": "execute_result"
    }
   ],
   "source": [
    "logreg.fit(X_train,y_train)"
   ],
   "metadata": {
    "collapsed": false
   }
  },
  {
   "cell_type": "code",
   "execution_count": 83,
   "outputs": [],
   "source": [
    "y_pred = logreg.predict(X_test)"
   ],
   "metadata": {
    "collapsed": false
   }
  },
  {
   "cell_type": "markdown",
   "source": [
    "### Check Performance of The Model"
   ],
   "metadata": {
    "collapsed": false
   }
  },
  {
   "cell_type": "code",
   "execution_count": 84,
   "outputs": [],
   "source": [
    "from sklearn.metrics import accuracy_score,confusion_matrix,classification_report"
   ],
   "metadata": {
    "collapsed": false
   }
  },
  {
   "cell_type": "code",
   "execution_count": 85,
   "outputs": [
    {
     "data": {
      "text/plain": "array([[1594266,  311755],\n       [ 332139, 1574479]], dtype=int64)"
     },
     "execution_count": 85,
     "metadata": {},
     "output_type": "execute_result"
    }
   ],
   "source": [
    "confusion_matrix(y_test,y_pred)"
   ],
   "metadata": {
    "collapsed": false
   }
  },
  {
   "cell_type": "code",
   "execution_count": 86,
   "outputs": [
    {
     "data": {
      "text/plain": "0.8311159278389588"
     },
     "execution_count": 86,
     "metadata": {},
     "output_type": "execute_result"
    }
   ],
   "source": [
    "accuracy_score(y_test,y_pred)"
   ],
   "metadata": {
    "collapsed": false
   }
  },
  {
   "cell_type": "code",
   "execution_count": 87,
   "outputs": [
    {
     "name": "stdout",
     "output_type": "stream",
     "text": [
      "              precision    recall  f1-score   support\n",
      "\n",
      "           0       0.83      0.84      0.83   1906021\n",
      "           1       0.83      0.83      0.83   1906618\n",
      "\n",
      "    accuracy                           0.83   3812639\n",
      "   macro avg       0.83      0.83      0.83   3812639\n",
      "weighted avg       0.83      0.83      0.83   3812639\n",
      "\n"
     ]
    }
   ],
   "source": [
    "print(classification_report(y_test,y_pred))"
   ],
   "metadata": {
    "collapsed": false
   }
  },
  {
   "cell_type": "markdown",
   "source": [
    "### Check Accuracy using cross val score"
   ],
   "metadata": {
    "collapsed": false
   }
  },
  {
   "cell_type": "code",
   "execution_count": 88,
   "outputs": [],
   "source": [
    "from sklearn.model_selection import cross_val_score"
   ],
   "metadata": {
    "collapsed": false
   }
  },
  {
   "cell_type": "code",
   "execution_count": 89,
   "outputs": [],
   "source": [
    "cvs = cross_val_score(logreg,X,y,cv=3)"
   ],
   "metadata": {
    "collapsed": false
   }
  },
  {
   "cell_type": "code",
   "execution_count": 90,
   "outputs": [
    {
     "name": "stdout",
     "output_type": "stream",
     "text": [
      "[0.85326603 0.84425266 0.65378433]\n",
      "0.7837676706394529\n"
     ]
    }
   ],
   "source": [
    "print(cvs)\n",
    "print(cvs.mean())"
   ],
   "metadata": {
    "collapsed": false
   }
  },
  {
   "cell_type": "markdown",
   "source": [
    "This is a situation of underfit where cross val score is less than than predicting score"
   ],
   "metadata": {
    "collapsed": false
   }
  },
  {
   "cell_type": "markdown",
   "source": [
    "### Feature Selection for the model"
   ],
   "metadata": {
    "collapsed": false
   }
  },
  {
   "cell_type": "code",
   "execution_count": 91,
   "outputs": [],
   "source": [
    "from sklearn.feature_selection import chi2,SelectKBest"
   ],
   "metadata": {
    "collapsed": false
   }
  },
  {
   "cell_type": "code",
   "execution_count": 93,
   "outputs": [
    {
     "data": {
      "text/plain": "array(['step', 'type', 'amount', 'newbalanceOrig', 'nameDest',\n       'isFlaggedFraud'], dtype=object)"
     },
     "execution_count": 93,
     "metadata": {},
     "output_type": "execute_result"
    }
   ],
   "source": [
    "chi_best_col = SelectKBest(chi2,k=6)\n",
    "kbest = chi_best_col.fit_transform(X,y)\n",
    "np.array(df.drop(columns = ['isFraud']).columns)[chi_best_col.get_support()]"
   ],
   "metadata": {
    "collapsed": false
   }
  },
  {
   "cell_type": "code",
   "execution_count": 95,
   "outputs": [
    {
     "data": {
      "text/plain": "         features         scores\n5        nameDest  474976.072107\n1            type  222790.122648\n0            step  220595.828446\n2          amount   86617.898959\n4  newbalanceOrig   71507.531439\n7  isFlaggedFraud    5715.000000\n3        nameOrig     100.418761\n6  newbalanceDest       9.801820",
      "text/html": "<div>\n<style scoped>\n    .dataframe tbody tr th:only-of-type {\n        vertical-align: middle;\n    }\n\n    .dataframe tbody tr th {\n        vertical-align: top;\n    }\n\n    .dataframe thead th {\n        text-align: right;\n    }\n</style>\n<table border=\"1\" class=\"dataframe\">\n  <thead>\n    <tr style=\"text-align: right;\">\n      <th></th>\n      <th>features</th>\n      <th>scores</th>\n    </tr>\n  </thead>\n  <tbody>\n    <tr>\n      <th>5</th>\n      <td>nameDest</td>\n      <td>474976.072107</td>\n    </tr>\n    <tr>\n      <th>1</th>\n      <td>type</td>\n      <td>222790.122648</td>\n    </tr>\n    <tr>\n      <th>0</th>\n      <td>step</td>\n      <td>220595.828446</td>\n    </tr>\n    <tr>\n      <th>2</th>\n      <td>amount</td>\n      <td>86617.898959</td>\n    </tr>\n    <tr>\n      <th>4</th>\n      <td>newbalanceOrig</td>\n      <td>71507.531439</td>\n    </tr>\n    <tr>\n      <th>7</th>\n      <td>isFlaggedFraud</td>\n      <td>5715.000000</td>\n    </tr>\n    <tr>\n      <th>3</th>\n      <td>nameOrig</td>\n      <td>100.418761</td>\n    </tr>\n    <tr>\n      <th>6</th>\n      <td>newbalanceDest</td>\n      <td>9.801820</td>\n    </tr>\n  </tbody>\n</table>\n</div>"
     },
     "execution_count": 95,
     "metadata": {},
     "output_type": "execute_result"
    }
   ],
   "source": [
    "pd.DataFrame(list(zip(df.drop(columns=['isFraud']).columns,chi_best_col.scores_)),columns=['features','scores']).sort_values(by='scores',ascending=False)"
   ],
   "metadata": {
    "collapsed": false
   }
  },
  {
   "cell_type": "markdown",
   "source": [
    "### Applying Logistic Regression using 5 important features"
   ],
   "metadata": {
    "collapsed": false
   }
  },
  {
   "cell_type": "code",
   "execution_count": 96,
   "outputs": [],
   "source": [
    "x1 = df[['step','type','nameOrig','newbalanceOrig','nameDest']]\n",
    "y1 = df['isFraud']"
   ],
   "metadata": {
    "collapsed": false
   }
  },
  {
   "cell_type": "code",
   "execution_count": 97,
   "outputs": [],
   "source": [
    "X1_train , X1_test , y1_train , y1_test = train_test_split(x1,y1,test_size=0.30,random_state=0)"
   ],
   "metadata": {
    "collapsed": false
   }
  },
  {
   "cell_type": "markdown",
   "source": [
    "### Applying Logistic regression"
   ],
   "metadata": {
    "collapsed": false
   }
  },
  {
   "cell_type": "code",
   "execution_count": 98,
   "outputs": [
    {
     "name": "stdout",
     "output_type": "stream",
     "text": [
      "              precision    recall  f1-score   support\n",
      "\n",
      "           0       1.00      1.00      1.00   1906315\n",
      "           1       0.00      0.00      0.00      2467\n",
      "\n",
      "    accuracy                           1.00   1908782\n",
      "   macro avg       0.50      0.50      0.50   1908782\n",
      "weighted avg       1.00      1.00      1.00   1908782\n",
      "\n"
     ]
    }
   ],
   "source": [
    "logreg1 = LogisticRegression()\n",
    "logreg1.fit(X1_train,y1_train)\n",
    "y2_pred = logreg1.predict(X1_test)\n",
    "print(classification_report(y1_test,y2_pred))"
   ],
   "metadata": {
    "collapsed": false
   }
  },
  {
   "cell_type": "code",
   "execution_count": 100,
   "outputs": [
    {
     "name": "stdout",
     "output_type": "stream",
     "text": [
      "[0.99870996 0.99870996 0.99870996]\n",
      "0.9987099623503265\n"
     ]
    }
   ],
   "source": [
    "from sklearn.model_selection import cross_val_score\n",
    "cvs1 = cross_val_score(logreg1,x1,y1,cv=3)\n",
    "print(cvs1)\n",
    "print(cvs1.mean())"
   ],
   "metadata": {
    "collapsed": false
   }
  },
  {
   "cell_type": "markdown",
   "source": [
    "### Our model accuracy is 99% and model is complete"
   ],
   "metadata": {
    "collapsed": false
   }
  },
  {
   "cell_type": "code",
   "execution_count": null,
   "outputs": [],
   "source": [],
   "metadata": {
    "collapsed": false
   }
  }
 ],
 "metadata": {
  "kernelspec": {
   "display_name": "Python 3 (ipykernel)",
   "language": "python",
   "name": "python3"
  },
  "language_info": {
   "codemirror_mode": {
    "name": "ipython",
    "version": 3
   },
   "file_extension": ".py",
   "mimetype": "text/x-python",
   "name": "python",
   "nbconvert_exporter": "python",
   "pygments_lexer": "ipython3",
   "version": "3.9.12"
  }
 },
 "nbformat": 4,
 "nbformat_minor": 5
}
